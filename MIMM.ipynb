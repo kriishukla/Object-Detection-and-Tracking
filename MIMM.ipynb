{
  "nbformat": 4,
  "nbformat_minor": 0,
  "metadata": {
    "colab": {
      "provenance": []
    },
    "kernelspec": {
      "name": "python3",
      "display_name": "Python 3"
    },
    "language_info": {
      "name": "python"
    }
  },
  "cells": [
    {
      "cell_type": "code",
      "execution_count": null,
      "metadata": {
        "colab": {
          "base_uri": "https://localhost:8080/"
        },
        "id": "52RYRfJNuow9",
        "outputId": "21b0a216-ad33-44d4-b8e0-1cb8d22caac5"
      },
      "outputs": [
        {
          "output_type": "stream",
          "name": "stdout",
          "text": [
            "Drive already mounted at /content/drive; to attempt to forcibly remount, call drive.mount(\"/content/drive\", force_remount=True).\n"
          ]
        }
      ],
      "source": [
        "from google.colab import drive\n",
        "drive.mount('/content/drive')\n"
      ]
    },
    {
      "cell_type": "code",
      "source": [
        "%cd \"/content/drive/MyDrive/assignment/MiMM-SBILab\"\n",
        "%ls\n",
        "\n"
      ],
      "metadata": {
        "colab": {
          "base_uri": "https://localhost:8080/"
        },
        "id": "zdcH8QKSvB6l",
        "outputId": "7980d10c-311f-41f0-d2e3-d275c48cca83"
      },
      "execution_count": null,
      "outputs": [
        {
          "output_type": "stream",
          "name": "stdout",
          "text": [
            "/content/drive/.shortcut-targets-by-id/1LoW0_yF6bTX7ZgATieI3TTcNYBJ3IPhd/MiMM-SBILab\n",
            "101.bmp  113.bmp  210.bmp  306.bmp  410.bmp  506.bmp  518.bmp  610.bmp\n",
            "102.bmp  114.bmp  211.bmp  307.bmp  411.bmp  507.bmp  519.bmp  \u001b[0m\u001b[01;34mcontrast]\u001b[0m/\n",
            "103.bmp  115.bmp  212.bmp  308.bmp  412.bmp  508.bmp  520.bmp  \u001b[01;34mgrayscale\u001b[0m/\n",
            "104.bmp  201.bmp  213.bmp  401.bmp  413.bmp  509.bmp  601.bmp  \u001b[01;34mpad\u001b[0m/\n",
            "105.bmp  202.bmp  214.bmp  402.bmp  414.bmp  510.bmp  602.bmp  \u001b[01;34mresized\u001b[0m/\n",
            "106.bmp  203.bmp  215.bmp  403.bmp  415.bmp  511.bmp  603.bmp  \u001b[01;34msaturate\u001b[0m/\n",
            "107.bmp  204.bmp  216.bmp  404.bmp  416.bmp  512.bmp  604.bmp\n",
            "108.bmp  205.bmp  301.bmp  405.bmp  417.bmp  513.bmp  605.bmp\n",
            "109.bmp  206.bmp  302.bmp  406.bmp  502.bmp  514.bmp  606.bmp\n",
            "110.bmp  207.bmp  303.bmp  407.bmp  503.bmp  515.bmp  607.bmp\n",
            "111.bmp  208.bmp  304.bmp  408.bmp  504.bmp  516.bmp  608.bmp\n",
            "112.bmp  209.bmp  305.bmp  409.bmp  505.bmp  517.bmp  609.bmp\n"
          ]
        }
      ]
    },
    {
      "cell_type": "code",
      "source": [
        "import os\n",
        "from PIL import Image\n",
        "from PIL import ImageEnhance, ImageOps, Image\n",
        "from PIL import Image, ImageEnhance\n"
      ],
      "metadata": {
        "id": "ChwIClDmMp5J"
      },
      "execution_count": null,
      "outputs": []
    },
    {
      "cell_type": "markdown",
      "source": [
        "Resizing an image involves changing its dimensions, either making it larger or smaller. It is the process of adjusting the width and height of an image to fit specific requirements or constraints while maintaining its aspect ratio."
      ],
      "metadata": {
        "id": "gCkWdRiONe1J"
      }
    },
    {
      "cell_type": "code",
      "source": [
        "directory = '/content/drive/MyDrive/assignment/MiMM-SBILab'\n",
        "new_directory = '/content/drive/MyDrive/assignment/MiMM-SBILab/resized'\n",
        "\n",
        "# Create a new directory for resized images if it doesn't exist\n",
        "if not os.path.exists(new_directory):\n",
        "    os.makedirs(new_directory)\n",
        "\n",
        "# Iterate over each file in the directory\n",
        "for filename in os.listdir(directory):\n",
        "    if filename.endswith('.bmp'):\n",
        "        # Open the image file\n",
        "        image_path = os.path.join(directory, filename)\n",
        "        img = Image.open(image_path)\n",
        "\n",
        "        # Resize the image (you can change the desired dimensions)\n",
        "        new_width, new_height = 800, 600\n",
        "        resized_img = img.resize((new_width, new_height))\n",
        "\n",
        "        # Save the resized image to the new directory\n",
        "        new_path = os.path.join(new_directory, filename)\n",
        "        resized_img.save(new_path)\n",
        "\n",
        "        # Close the image file\n",
        "        img.close()\n",
        "\n",
        "print(\"Image resizing complete!\")\n"
      ],
      "metadata": {
        "id": "WqJCMwOqv_cI",
        "colab": {
          "base_uri": "https://localhost:8080/"
        },
        "outputId": "dea0469e-d9b9-48ba-bfb7-2510f7479a87"
      },
      "execution_count": null,
      "outputs": [
        {
          "output_type": "stream",
          "name": "stdout",
          "text": [
            "Image resizing complete!\n"
          ]
        }
      ]
    },
    {
      "cell_type": "markdown",
      "source": [
        "Image padding is the process of adding extra pixels around the edges of an image to increase its size or create a border. It helps maintain the image's aspect ratio and can be used for various purposes, such as preserving proportions when resizing or creating a visual boundary."
      ],
      "metadata": {
        "id": "FLEBuhpoNd0S"
      }
    },
    {
      "cell_type": "code",
      "source": [
        "\n",
        "\n",
        "dataset_directory = '/content/drive/MyDrive/assignment/MiMM-SBILab'\n",
        "\n",
        "\n",
        "output_directory = '/content/drive/MyDrive/assignment/MiMM-SBILab/pad'\n",
        "if not os.path.exists(output_directory):\n",
        "    os.makedirs(output_directory)\n",
        "\n",
        "for filename in os.listdir(dataset_directory):\n",
        "    if filename.endswith('.bmp'):\n",
        "        image_path = os.path.join(dataset_directory, filename)\n",
        "        img = Image.open(image_path)\n",
        "\n",
        "        # Pad the image\n",
        "        padded_img = ImageOps.pad(img, (img.width + 100, img.height + 100), color='white')\n",
        "\n",
        "\n",
        "        output_path = os.path.join(output_directory, filename)\n",
        "        padded_img.save(output_path)\n",
        "\n",
        "        img.close()\n",
        "\n",
        "print(\"Image padding complete!\")"
      ],
      "metadata": {
        "colab": {
          "base_uri": "https://localhost:8080/"
        },
        "id": "aYv8RvzbJgmI",
        "outputId": "b3529953-ca1f-46a9-f052-103fac0b5413"
      },
      "execution_count": null,
      "outputs": [
        {
          "output_type": "stream",
          "name": "stdout",
          "text": [
            "Image padding complete!\n"
          ]
        }
      ]
    },
    {
      "cell_type": "markdown",
      "source": [
        "Grayscale refers to the process of converting an image from its original color representation to shades of gray. In grayscale images, each pixel is represented by a single intensity value, ranging from black (0) to white (255), with various shades of gray in between. This conversion removes the color information from the image, resulting in a grayscale representation that highlights the luminance or brightness values of the original image."
      ],
      "metadata": {
        "id": "llhfoWy5OrXa"
      }
    },
    {
      "cell_type": "code",
      "source": [
        "output_directory = '/content/drive/MyDrive/assignment/MiMM-SBILab/grayscale'\n",
        "\n",
        "if not os.path.exists(output_directory):\n",
        "    os.makedirs(output_directory)\n",
        "\n",
        "\n",
        "\n",
        "for filename in os.listdir(dataset_directory):\n",
        "    if filename.endswith('.bmp'):\n",
        "        image_path = os.path.join(dataset_directory, filename)\n",
        "        img = Image.open(image_path)\n",
        "\n",
        "\n",
        "\n",
        "        # Convert the image to grayscale\n",
        "        grayscale_img = img.convert('L')\n",
        "\n",
        "\n",
        "\n",
        "        # Save the grayscale image\n",
        "        output_path = os.path.join(output_directory, filename)\n",
        "        grayscale_img.save(output_path)\n",
        "\n",
        "        img.close()\n",
        "\n",
        "\n",
        "\n",
        "print(\"Grayscale conversion complete!\")"
      ],
      "metadata": {
        "colab": {
          "base_uri": "https://localhost:8080/"
        },
        "id": "hVEXJsNRKTWP",
        "outputId": "f4c04644-d896-411e-dec9-a6f80981d2df"
      },
      "execution_count": null,
      "outputs": [
        {
          "output_type": "stream",
          "name": "stdout",
          "text": [
            "Grayscale conversion complete!\n"
          ]
        }
      ]
    },
    {
      "cell_type": "markdown",
      "source": [
        "\n",
        "Contrast enhancement is a technique used to increase the visual difference between the light and dark areas of an image. It involves adjusting the range of pixel intensities, making the dark areas darker and the light areas lighter. The goal is to improve the overall contrast, making the image appear sharper and more defined.\n",
        "\n"
      ],
      "metadata": {
        "id": "PdjXo2ShPBhY"
      }
    },
    {
      "cell_type": "code",
      "source": [
        " # Replace with the desired output directory path\n",
        "output_directory = '/content/drive/MyDrive/assignment/MiMM-SBILab/contrast]'\n",
        "if not os.path.exists(output_directory):\n",
        "    os.makedirs(output_directory)\n",
        "\n",
        "\n",
        "\n",
        "for filename in os.listdir(dataset_directory):\n",
        "\n",
        "\n",
        "    if filename.endswith('.bmp'):\n",
        "        image_path = os.path.join(dataset_directory, filename)\n",
        "        img = Image.open(image_path)\n",
        "\n",
        "\n",
        "\n",
        "        # Enhance the contrast of the image\n",
        "        contrast_enhancer = ImageEnhance.Contrast(img)\n",
        "        contrast_factor = 1.5  # Adjust the factor for desired contrast enhancement\n",
        "        contrast_img = contrast_enhancer.enhance(contrast_factor)\n",
        "\n",
        "\n",
        "\n",
        "        # Save the contrast-enhanced image\n",
        "        output_path = os.path.join(output_directory, filename)\n",
        "        contrast_img.save(output_path)\n",
        "\n",
        "        img.close()\n",
        "\n",
        "\n",
        "\n",
        "print(\"Contrast enhancement complete!\")"
      ],
      "metadata": {
        "colab": {
          "base_uri": "https://localhost:8080/"
        },
        "id": "IIUg8Zl3K2YP",
        "outputId": "a6cac1e4-408c-4cf8-8f3b-ab203ec35d2a"
      },
      "execution_count": null,
      "outputs": [
        {
          "output_type": "stream",
          "name": "stdout",
          "text": [
            "Contrast enhancement complete!\n"
          ]
        }
      ]
    },
    {
      "cell_type": "markdown",
      "source": [
        "Saturation enhancement, on the other hand, focuses on intensifying the colors in an image. By increasing the saturation, the vibrancy and richness of the colors are enhanced. This adjustment can make the image appear more vivid and visually appealing, as the colors become more saturated and vibrant without affecting the overall brightness or contrast."
      ],
      "metadata": {
        "id": "jjnfC7VxPAN7"
      }
    },
    {
      "cell_type": "code",
      "source": [
        "\n",
        "\n",
        "output_directory =  '/content/drive/MyDrive/assignment/MiMM-SBILab/saturate' # Replace with the desired output directory path\n",
        "\n",
        "\n",
        "\n",
        "if not os.path.exists(output_directory):\n",
        "    os.makedirs(output_directory)\n",
        "\n",
        "\n",
        "\n",
        "for filename in os.listdir(dataset_directory):\n",
        "    if filename.endswith('.bmp'):\n",
        "        image_path = os.path.join(dataset_directory, filename)\n",
        "        img = Image.open(image_path)\n",
        "\n",
        "\n",
        "\n",
        "        # Enhance the saturation of the image\n",
        "        saturation_enhancer = ImageEnhance.Color(img)\n",
        "        saturation_factor = 1.5  # Adjust the factor for desired saturation enhancement\n",
        "        saturated_img = saturation_enhancer.enhance(saturation_factor)\n",
        "\n",
        "\n",
        "\n",
        "        # Save the saturated image\n",
        "        output_path = os.path.join(output_directory, filename)\n",
        "        saturated_img.save(output_path)\n",
        "\n",
        "        img.close()\n",
        "\n",
        "\n",
        "\n",
        "print(\"Saturation enhancement complete!\")\n"
      ],
      "metadata": {
        "colab": {
          "base_uri": "https://localhost:8080/"
        },
        "id": "nfex2eOuL4rA",
        "outputId": "c9691b9d-a613-42bb-b49b-e18912517ab6"
      },
      "execution_count": null,
      "outputs": [
        {
          "output_type": "stream",
          "name": "stdout",
          "text": [
            "Saturation enhancement complete!\n"
          ]
        }
      ]
    }
  ]
}